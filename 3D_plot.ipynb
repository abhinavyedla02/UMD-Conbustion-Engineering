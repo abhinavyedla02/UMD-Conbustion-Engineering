#imports all of the tools neccesary
%matplotlib notebook
import numpy as np
import matplotlib
import matplotlib.pyplot as plt
from matplotlib.pyplot import *
font ={'family':'serif','weight':'bold','size':12}
matplotlib.rc('font',**font)
from mpl_toolkits.mplot3d import Axes3D
import os
import csv
import math
from matplotlib.colors import LightSource, Normalize 
import matplotlib.colors as colors
from mpl_toolkits import mplot3d 

base="C:/Users/kiranraj/Desktop/Kiranraj/FTIR autosaves/Lignocellulose_processed/Cellulose_KBr_100sccm_10K_0/CSV_Processed - Copy"
base1="C:/Users/kiranraj/Desktop/Kiranraj/FTIR autosaves/Lignocellulose_processed - Copy/Lignin_KBr_100sccm_10K_0/CSV_Processed"
folnames=os.listdir(base) 
plt.rcParams['figure.figsize'] = [9.5, 6]
ax = plt.axes(projection='3d')
#this imports all of that data for the xaxis. only uploaded once because it is the same for each file.
np.set_printoptions(threshold=sys.maxsize)


x=0
xarray = np.zeros(119)
xaxis = []
for zero in xarray:
    xfile = open(base1+"/"+folnames[x], "r")
    xtemp = np.loadtxt(xfile, delimiter=',',usecols=(0))
    xaxis=np.concatenate([xaxis,xtemp])
    x=x+1
#print(xaxis)
    
    
z=0
zarray = np.zeros(119)
zaxis = []
for zero in zarray:
    zfile = open(base1+"/"+folnames[z], "r")
    ztemp = np.loadtxt(zfile, delimiter=',',usecols=(1))
    zaxis=np.concatenate([zaxis,ztemp])
    z=z+1
#print(zaxis)

y=0
yarray = np.zeros(119)
yaxis = []
for zero in yarray:
    yfile = open(base+"/"+folnames[y+1], "r")
    ytemp = np.loadtxt(yfile, delimiter=',',usecols=(2))
    yaxis=np.concatenate([yaxis,ytemp])
    y=y+1
#print(yaxis)
#ax.scatter3D(xaxis,-yaxis,zaxis, c=zaxis , cmap = "terrain")
ax.view_init(50, 150)

ax.plot_trisurf(xaxis,yaxis,zaxis
                ,cmap='terrain', edgecolor='none');

ax.set_title("CSV_Processed")
ax.set_xlabel("Wavelength")
ax.set_ylabel("Time (seconds passed)")
ax.set_zlabel("?")

#ax.scatter3D(xaxis,-yaxis,zaxis, c=zaxis , cmap = "terrain")
#def ZX_function(qw, er):
#   return qw + er 

#qw = np.linspace(650, 4000, 1190)
#er = np.linspace(-5236, 0, 119)

#QW, ER = np.meshgrid(qw, er)
#ZX = ZX_function(QW, ER)

#ax.plot_wireframe(QW, ER, ZX, color='green')
#ax.plot_surface(QW, ER, ZX, rstride=1, cstride=1,
#               cmap='winter', edgecolor='none')


plt.show()
